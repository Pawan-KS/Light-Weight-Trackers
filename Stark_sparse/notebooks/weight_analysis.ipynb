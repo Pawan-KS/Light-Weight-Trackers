{
 "cells": [
  {
   "cell_type": "code",
   "execution_count": null,
   "metadata": {},
   "outputs": [],
   "source": [
    "# import torch\n",
    "# ckpt = torch.load('/workspace/tracking_datasets/stark/wacv_fin_sparse_exp1_no_clf/checkpoints/train/stark_sparse_no_clf/baseline_got10k_only_sparse_exp1_no_clf/STARKST_ep0036.pth.tar')"
   ]
  },
  {
   "cell_type": "code",
   "execution_count": null,
   "metadata": {},
   "outputs": [],
   "source": [
    "import os\n",
    "os.environ[\"CUDA_VISIBLE_DEVICES\"]=\"4\""
   ]
  },
  {
   "cell_type": "code",
   "execution_count": null,
   "metadata": {},
   "outputs": [],
   "source": [
    "import torch\n",
    "ckpt = torch.load('/workspace/tracking_datasets/stark/exp_wacv_child_fin2/checkpoints/train/stark_sparse_no_clf/baseline_got10k_only_sparse_exp2_no_clf/STARKST_ep0082.pth.tar')"
   ]
  },
  {
   "cell_type": "code",
   "execution_count": null,
   "metadata": {},
   "outputs": [],
   "source": [
    "ckpt.keys()"
   ]
  },
  {
   "cell_type": "code",
   "execution_count": null,
   "metadata": {},
   "outputs": [],
   "source": [
    "keys_weight = list(ckpt['net'].keys())\n",
    "keys_weight"
   ]
  },
  {
   "cell_type": "code",
   "execution_count": null,
   "metadata": {},
   "outputs": [],
   "source": [
    "count = 0\n",
    "zeta_index = []\n",
    "for idx,key in enumerate(keys_weight):\n",
    "    if key.split('.')[-1]=='zeta':\n",
    "        print('yes')\n",
    "        count+=1\n",
    "        zeta_index.append(idx)\n",
    "print(count)"
   ]
  },
  {
   "cell_type": "code",
   "execution_count": null,
   "metadata": {},
   "outputs": [],
   "source": [
    "val = 0.0\n",
    "for i,zeta_idx in enumerate(zeta_index):\n",
    "    if i>=8:\n",
    "        print(keys_weight[zeta_idx],\"------------->\",ckpt['net'][keys_weight[zeta_idx]].detach().cpu().numpy().flatten().mean())"
   ]
  },
  {
   "cell_type": "code",
   "execution_count": null,
   "metadata": {},
   "outputs": [],
   "source": [
    "import matplotlib.pyplot as plt\n",
    "plt.figure(figsize=(25,25))\n",
    "for idx,(zeta_idx) in enumerate(zeta_index):\n",
    "    plt.subplot(4,5,idx+1)\n",
    "#     print(keys_weight[zeta_idx])\n",
    "    plt.hist(ckpt['net'][keys_weight[zeta_idx]].detach().cpu().numpy().flatten(),bins=25)\n",
    "    plt.title(f'{keys_weight[zeta_idx]}')\n",
    "plt.savefig('sparse_train.png',transparent=True)"
   ]
  },
  {
   "cell_type": "code",
   "execution_count": null,
   "metadata": {},
   "outputs": [],
   "source": [
    "import matplotlib.pyplot as plt"
   ]
  },
  {
   "cell_type": "code",
   "execution_count": null,
   "metadata": {},
   "outputs": [],
   "source": [
    "plt.hist(ckpt['net'][keys_weight[zeta_index[0]]].detach().cpu().numpy().flatten())"
   ]
  },
  {
   "cell_type": "code",
   "execution_count": null,
   "metadata": {},
   "outputs": [],
   "source": [
    "plt.hist(ckpt['net']['transformer.decoder.layers.0.self_attn.zeta'].flatten().cpu().numpy())"
   ]
  },
  {
   "cell_type": "code",
   "execution_count": null,
   "metadata": {},
   "outputs": [],
   "source": [
    "ckpt['net']['transformer.decoder.layers.0.self_attn.zeta'].flatten()"
   ]
  },
  {
   "cell_type": "code",
   "execution_count": null,
   "metadata": {},
   "outputs": [],
   "source": [
    "plt.hist(ckpt['net']['transformer.encoder.layers.0.self_attn.zeta'].detach().cpu().flatten())"
   ]
  },
  {
   "cell_type": "code",
   "execution_count": null,
   "metadata": {},
   "outputs": [],
   "source": [
    "plt.hist(ckpt['net'][keys_weight[zeta_index[-1]]].detach().cpu().numpy().flatten())"
   ]
  },
  {
   "cell_type": "code",
   "execution_count": null,
   "metadata": {},
   "outputs": [],
   "source": [
    "row = count/5\n",
    "col = count%5"
   ]
  },
  {
   "cell_type": "code",
   "execution_count": null,
   "metadata": {},
   "outputs": [],
   "source": [
    " ckpt = torch.load('/workspace/tracking_datasets/stark_sparse_pretrained_new_config_r50.pth')['net']"
   ]
  },
  {
   "cell_type": "code",
   "execution_count": null,
   "metadata": {},
   "outputs": [],
   "source": [
    "ckpt.keys()"
   ]
  },
  {
   "cell_type": "code",
   "execution_count": null,
   "metadata": {},
   "outputs": [],
   "source": [
    "ckpt['transformer.decoder.layers.2.self_attn.k.weight']"
   ]
  },
  {
   "cell_type": "code",
   "execution_count": null,
   "metadata": {},
   "outputs": [],
   "source": []
  }
 ],
 "metadata": {
  "kernelspec": {
   "display_name": "Python 3",
   "language": "python",
   "name": "python3"
  },
  "language_info": {
   "codemirror_mode": {
    "name": "ipython",
    "version": 3
   },
   "file_extension": ".py",
   "mimetype": "text/x-python",
   "name": "python",
   "nbconvert_exporter": "python",
   "pygments_lexer": "ipython3",
   "version": "3.8.5"
  }
 },
 "nbformat": 4,
 "nbformat_minor": 4
}
