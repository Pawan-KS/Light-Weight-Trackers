{
 "cells": [
  {
   "cell_type": "code",
   "execution_count": null,
   "metadata": {},
   "outputs": [],
   "source": [
    "# import torch\n",
    "# ckpt_og = torch.load('/workspace/tracking_datasets/STARKST_ep0050.pth.tar')\n",
    "# ckpt_sparse = torch.load('/workspace/tracking_datasets/stark/try/checkpoints/train/stark_sparse/baseline_got10k_only_sparse/STARKST_ep0001.pth.tar')"
   ]
  },
  {
   "cell_type": "code",
   "execution_count": null,
   "metadata": {},
   "outputs": [],
   "source": [
    "# ckpt_sparse['net'].keys()"
   ]
  },
  {
   "cell_type": "code",
   "execution_count": null,
   "metadata": {},
   "outputs": [],
   "source": [
    "# for i in ckpt_sparse['net'].keys():\n",
    "#     if 'transformer' in i:\n",
    "#         print(i)"
   ]
  },
  {
   "cell_type": "code",
   "execution_count": null,
   "metadata": {},
   "outputs": [],
   "source": [
    "# from collections import OrderedDict\n",
    "# new_state = OrderedDict()\n",
    "\n",
    "# for key, value in ckpt_og['net'].items():\n",
    "#     if 'transformer' in key and 'in_proj_weight' in key:\n",
    "#         new_key = key[:-14] + 'qkv.weight'\n",
    "#         print(new_key)\n",
    "#         new_state[new_key] = value\n",
    "#     elif 'transformer' in key and 'in_proj_bias' in key:\n",
    "#         new_key = key[:-12] + 'qkv.bias'\n",
    "#         print(new_key)\n",
    "#         new_state[new_key] = value\n",
    "#     elif 'transformer' in key and 'out_proj.weight' in key:\n",
    "#         new_key = key[:-15] + 'proj.weight'\n",
    "#         print(new_key)\n",
    "#         new_state[new_key] = value\n",
    "#     elif 'transformer' in key and 'out_proj.bias' in key:\n",
    "#         new_key = key[:-13] + 'proj.bias'\n",
    "#         print(new_key)\n",
    "#         new_state[new_key] = value\n",
    "#     elif 'transformer' in key and 'linear1.weight' in key:\n",
    "#         new_key = key[:-14] + 'mlp.fc1.weight'\n",
    "#         print(new_key)\n",
    "#         new_state[new_key] = value\n",
    "#     elif 'transformer' in key and 'linear1.bias' in key:\n",
    "#         new_key = key[:-12] + 'mlp.fc1.bias'\n",
    "#         print(new_key)\n",
    "#         new_state[new_key] = value\n",
    "#     elif 'transformer' in key and 'linear2.weight' in key:\n",
    "#         new_key = key[:-14] + 'mlp.fc2.weight'\n",
    "#         print(new_key)\n",
    "#         new_state[new_key] = value\n",
    "#     elif 'transformer' in key and 'linear2.bias' in key:\n",
    "#         new_key = key[:-12] + 'mlp.fc2.bias'\n",
    "#         print(new_key)\n",
    "#         new_state[new_key] = value\n",
    "#     else:\n",
    "#         new_state[key] = value"
   ]
  },
  {
   "cell_type": "code",
   "execution_count": null,
   "metadata": {},
   "outputs": [],
   "source": [
    "# from collections import OrderedDict\n",
    "# new_state = OrderedDict()\n",
    "\n",
    "# for key, value in ckpt_og['net'].items():\n",
    "#     if 'transformer' in key and 'in_proj_weight' in key:\n",
    "#         new_key = key[:-14] + 'q.weight'\n",
    "#         print(new_key)\n",
    "#         new_state[new_key] = value[:value.shape[0]//3,:]\n",
    "        \n",
    "#         new_key = key[:-14] + 'k.weight'\n",
    "#         print(new_key)\n",
    "#         new_state[new_key] = value[value.shape[0]//3:(value.shape[0]//3)*2,:]\n",
    "        \n",
    "#         new_key = key[:-14] + 'v.weight'\n",
    "#         print(new_key)\n",
    "#         new_state[new_key] = value[(value.shape[0]//3)*2:,:]\n",
    "        \n",
    "#     elif 'transformer' in key and 'in_proj_bias' in key:\n",
    "#         new_key = key[:-12] + 'q.bias'\n",
    "#         print(new_key)\n",
    "#         new_state[new_key] = value[:value.shape[0]//3]\n",
    "        \n",
    "#         new_key = key[:-12] + 'k.bias'\n",
    "#         print(new_key)\n",
    "#         new_state[new_key] = value[value.shape[0]//3:(value.shape[0]//3)*2]\n",
    "        \n",
    "#         new_key = key[:-12] + 'v.bias'\n",
    "#         print(new_key)\n",
    "#         new_state[new_key] = value[(value.shape[0]//3)*2:]\n",
    "        \n",
    "        \n",
    "#     elif 'transformer' in key and 'out_proj.weight' in key:\n",
    "#         new_key = key[:-15] + 'proj.weight'\n",
    "#         print(new_key)\n",
    "#         new_state[new_key] = value\n",
    "#     elif 'transformer' in key and 'out_proj.bias' in key:\n",
    "#         new_key = key[:-13] + 'proj.bias'\n",
    "#         print(new_key)\n",
    "#         new_state[new_key] = value\n",
    "#     elif 'transformer' in key and 'linear1.weight' in key:\n",
    "#         new_key = key[:-14] + 'mlp.fc1.weight'\n",
    "#         print(new_key)\n",
    "#         new_state[new_key] = value\n",
    "#     elif 'transformer' in key and 'linear1.bias' in key:\n",
    "#         new_key = key[:-12] + 'mlp.fc1.bias'\n",
    "#         print(new_key)\n",
    "#         new_state[new_key] = value\n",
    "#     elif 'transformer' in key and 'linear2.weight' in key:\n",
    "#         new_key = key[:-14] + 'mlp.fc2.weight'\n",
    "#         print(new_key)\n",
    "#         new_state[new_key] = value\n",
    "#     elif 'transformer' in key and 'linear2.bias' in key:\n",
    "#         new_key = key[:-12] + 'mlp.fc2.bias'\n",
    "#         print(new_key)\n",
    "#         new_state[new_key] = value\n",
    "#     else:\n",
    "#         new_state[key] = value"
   ]
  },
  {
   "cell_type": "code",
   "execution_count": null,
   "metadata": {},
   "outputs": [],
   "source": [
    "ls /workspace/tracking_datasets/stark/cnn_child/budget_75"
   ]
  },
  {
   "cell_type": "code",
   "execution_count": 1,
   "metadata": {},
   "outputs": [],
   "source": [
    "import os\n",
    "os.environ['CUDA_VISIBLE_DEVICES'] = '1'"
   ]
  },
  {
   "cell_type": "code",
   "execution_count": 2,
   "metadata": {},
   "outputs": [],
   "source": [
    "from lib.models.stark import build_starks, build_starkst,build_starkst_sparse"
   ]
  },
  {
   "cell_type": "code",
   "execution_count": 3,
   "metadata": {},
   "outputs": [],
   "source": [
    "# import importlib\n",
    "# config_module = importlib.import_module(\"lib.config.%s.config\" % 'stark_sparse_no_clf')\n",
    "# cfg = config_module.cfg\n",
    "# config_module.update_config_from_file('/workspace/Stark_sparse/experiments/stark_sparse_no_clf/baseline_got10k_only_sparse_no_clf_cnn_budget_75.yaml')"
   ]
  },
  {
   "cell_type": "code",
   "execution_count": 4,
   "metadata": {},
   "outputs": [],
   "source": [
    "# stark_sparse/baseline_got10k_only_sparse_fin_exp1\n",
    "import importlib\n",
    "config_module = importlib.import_module(\"lib.config.%s.config\" % 'stark_sparse')\n",
    "cfg = config_module.cfg\n",
    "config_module.update_config_from_file('/workspace/Stark_sparse/experiments/stark_sparse/baseline_got10k_only_sparse_fin_exp1.yaml')"
   ]
  },
  {
   "cell_type": "code",
   "execution_count": 5,
   "metadata": {},
   "outputs": [
    {
     "name": "stdout",
     "output_type": "stream",
     "text": [
      "head channel: 256\n"
     ]
    }
   ],
   "source": [
    "# cfg.ckpt_dir = '/workspace/tracking_datasets/stark/cnn_child/budget_75'\n",
    "model = build_starkst_sparse(cfg)"
   ]
  },
  {
   "cell_type": "code",
   "execution_count": 6,
   "metadata": {},
   "outputs": [],
   "source": [
    "# model.load_state_dict(new_state, strict = False)"
   ]
  },
  {
   "cell_type": "code",
   "execution_count": 7,
   "metadata": {},
   "outputs": [],
   "source": [
    "# ckpt_og['net'] = new_state"
   ]
  },
  {
   "cell_type": "code",
   "execution_count": 8,
   "metadata": {},
   "outputs": [],
   "source": [
    "# torch.save(ckpt_og,'/workspace/tracking_datasets/stark_sparse_pretrained.pth')"
   ]
  },
  {
   "cell_type": "code",
   "execution_count": 9,
   "metadata": {},
   "outputs": [],
   "source": [
    "# ckpt_sparse['net']['transformer.encoder.layers.0.mlp.zeta']"
   ]
  },
  {
   "cell_type": "code",
   "execution_count": 10,
   "metadata": {},
   "outputs": [],
   "source": [
    "# ckpt_og['net'].keys()"
   ]
  },
  {
   "cell_type": "code",
   "execution_count": 11,
   "metadata": {},
   "outputs": [],
   "source": [
    "# import os\n",
    "# os.listdir('/workspace/tracking_datasets/stark/sparse_exp_cnn_budget_75/checkpoints/train/stark_sparse_no_clf/baseline_got10k_only_sparse_no_clf_cnn_budget_75')"
   ]
  },
  {
   "cell_type": "code",
   "execution_count": 12,
   "metadata": {},
   "outputs": [],
   "source": [
    "# import torch\n",
    "# ckpt = torch.load('/workspace/tracking_datasets/stark/sparse_exp_cnn_budget_75/checkpoints/train/stark_sparse_no_clf/baseline_got10k_only_sparse_no_clf_cnn_budget_75/STARKST_ep0105.pth.tar')['net']"
   ]
  },
  {
   "cell_type": "code",
   "execution_count": 13,
   "metadata": {},
   "outputs": [],
   "source": [
    "# import torch\n",
    "# ckpt = torch.load('/workspace/tracking_datasets/stark/sparse_exp_cnn_budget_50/checkpoints/train/stark_sparse_no_clf/baseline_got10k_only_sparse_no_clf_cnn_budget_50/STARKST_ep0100.pth.tar')['net']"
   ]
  },
  {
   "cell_type": "code",
   "execution_count": 14,
   "metadata": {},
   "outputs": [],
   "source": [
    "import torch\n",
    "ckpt = torch.load('/workspace/tracking_datasets/stark/exp_wacv_sparse_fin1/checkpoints/train/stark_sparse/baseline_got10k_only_sparse_fin_exp1/STARKST_ep0100.pth.tar',map_location='cuda')['net']"
   ]
  },
  {
   "cell_type": "code",
   "execution_count": 15,
   "metadata": {},
   "outputs": [
    {
     "data": {
      "text/plain": [
       "<All keys matched successfully>"
      ]
     },
     "execution_count": 15,
     "metadata": {},
     "output_type": "execute_result"
    }
   ],
   "source": [
    "model.load_state_dict(ckpt)"
   ]
  },
  {
   "cell_type": "code",
   "execution_count": 16,
   "metadata": {},
   "outputs": [
    {
     "name": "stdout",
     "output_type": "stream",
     "text": [
      "number of layers enc :  4\n",
      "number of layers dec :  8\n"
     ]
    }
   ],
   "source": [
    "thresh_attn_enc , thresh_mlp_enc , thresh_attn_dec , thresh_mlp_dec =  model.transformer.compress_sep(0.75,0.75,1)"
   ]
  },
  {
   "cell_type": "code",
   "execution_count": 17,
   "metadata": {},
   "outputs": [
    {
     "data": {
      "text/plain": [
       "0.4549155831336975"
      ]
     },
     "execution_count": 17,
     "metadata": {},
     "output_type": "execute_result"
    }
   ],
   "source": [
    "thresh_attn_enc"
   ]
  },
  {
   "cell_type": "code",
   "execution_count": 18,
   "metadata": {},
   "outputs": [
    {
     "data": {
      "text/plain": [
       "torch.Size([1, 1, 4, 1, 24])"
      ]
     },
     "execution_count": 18,
     "metadata": {},
     "output_type": "execute_result"
    }
   ],
   "source": [
    "ckpt['transformer.encoder.layers.0.self_attn.zeta'].shape"
   ]
  },
  {
   "cell_type": "code",
   "execution_count": 19,
   "metadata": {},
   "outputs": [
    {
     "name": "stdout",
     "output_type": "stream",
     "text": [
      "mkdir: cannot create directory ‘/workspace/stark_plots’: File exists\n"
     ]
    }
   ],
   "source": [
    "mkdir '/workspace/stark_plots'"
   ]
  },
  {
   "cell_type": "code",
   "execution_count": 20,
   "metadata": {},
   "outputs": [],
   "source": [
    "attn_list = []\n",
    "for i in range(4):\n",
    "#     print((ckpt['net'][f'backbone.blocks.{i}.attn.zeta']>thresh_attn).sum(4).flatten())\n",
    "    attn_list.append((ckpt[f'transformer.encoder.layers.{i}.self_attn.zeta']>=thresh_attn_enc).sum(4).flatten())"
   ]
  },
  {
   "cell_type": "code",
   "execution_count": 21,
   "metadata": {},
   "outputs": [],
   "source": [
    "attn_list = torch.stack(attn_list, dim=-1).cpu().numpy()"
   ]
  },
  {
   "cell_type": "code",
   "execution_count": 22,
   "metadata": {},
   "outputs": [
    {
     "data": {
      "image/png": "[encoded data removed]",
      "text/plain": [
       "<Figure size 432x288 with 2 Axes>"
      ]
     },
     "metadata": {},
     "output_type": "display_data"
    }
   ],
   "source": [
    "import seaborn as sns; sns.set_theme()\n",
    "ax = sns.heatmap(attn_list, annot = True)\n",
    "ax.set(xlabel='Layers', ylabel='Heads')\n",
    "ax.set_title(\"Encoder budget=1\")\n",
    "ax.figure.savefig('/workspace/stark_plots/budget_1_encoder.png')"
   ]
  },
  {
   "cell_type": "code",
   "execution_count": 23,
   "metadata": {},
   "outputs": [],
   "source": [
    "attn_list = []\n",
    "for i in range(4):\n",
    "#     print((ckpt['net'][f'backbone.blocks.{i}.attn.zeta']>thresh_attn).sum(4).flatten())\n",
    "    attn_list.append((ckpt[f'transformer.decoder.layers.{i}.self_attn.zeta']>=thresh_attn_dec).sum(4).flatten())\n",
    "    attn_list.append((ckpt[f'transformer.decoder.layers.{i}.multihead_attn.zeta']>=thresh_attn_dec).sum(4).flatten())"
   ]
  },
  {
   "cell_type": "code",
   "execution_count": 24,
   "metadata": {},
   "outputs": [],
   "source": [
    "attn_list = torch.stack(attn_list, dim=-1).cpu().numpy()"
   ]
  },
  {
   "cell_type": "code",
   "execution_count": 25,
   "metadata": {},
   "outputs": [
    {
     "data": {
      "image/png": "[encoded data removed]",
      "text/plain": [
       "<Figure size 432x288 with 2 Axes>"
      ]
     },
     "metadata": {},
     "output_type": "display_data"
    }
   ],
   "source": [
    "import seaborn as sns; sns.set_theme()\n",
    "ax = sns.heatmap(attn_list, annot = True)\n",
    "ax.set(xlabel='Layers', ylabel='Heads')\n",
    "ax.set_title(\"Decoder budget=1\")\n",
    "ax.figure.savefig('/workspace/stark_plots/budget_1_decoder.png')"
   ]
  },
  {
   "cell_type": "code",
   "execution_count": null,
   "metadata": {},
   "outputs": [],
   "source": [
    "for i in ckpt.keys():\n",
    "    if 'mlp' in i and 'zeta' in i:\n",
    "        print(i)"
   ]
  },
  {
   "cell_type": "code",
   "execution_count": null,
   "metadata": {},
   "outputs": [],
   "source": [
    "# rm -r '/workspace/stark_plots/budget_1.0.png'"
   ]
  },
  {
   "cell_type": "code",
   "execution_count": null,
   "metadata": {},
   "outputs": [],
   "source": [
    "budgets = [1, .75, .5, .25, .1]\n",
    "\n",
    "mlp_list = []\n",
    "for b in budgets:\n",
    "    thresh_attn_enc , thresh_mlp_enc , thresh_attn_dec , thresh_mlp_dec =  model.transformer.compress_sep(b,b,1)\n",
    "    if b ==.01:\n",
    "        thresh_attn, thresh_mlp,_ = net.backbone.compress_layerwise(b, b, 0.0000000001)\n",
    "    a1 = []\n",
    "    for i in range(4):\n",
    "        a1.append((ckpt[f'transformer.encoder.layers.{i}.mlp.zeta']>=thresh_mlp_enc).sum().flatten())\n",
    "#         else:\n",
    "#             a1.append((ckpt[f'transformer.decoder.layers.{i-4}.mlp.zeta']>=thresh_mlp_dec).sum().flatten())\n",
    "    mlp_list.append(torch.cat(a1))\n",
    "mlp_list = torch.stack(mlp_list, dim=1).cpu().numpy()"
   ]
  },
  {
   "cell_type": "code",
   "execution_count": null,
   "metadata": {},
   "outputs": [],
   "source": [
    "ax = sns.heatmap( mlp_list, fmt = 'g', annot = True)\n",
    "ax.set(xlabel='budgets', ylabel='Layers')\n",
    "ax.set_xticklabels(budgets)\n",
    "ax.set_title(\"Encoder mlp\")\n",
    "ax.figure.savefig('/workspace/stark_plots/encoder_mlp.png')"
   ]
  },
  {
   "cell_type": "code",
   "execution_count": null,
   "metadata": {},
   "outputs": [],
   "source": [
    "budgets = [1, .75, .5, .25, .1]\n",
    "\n",
    "mlp_list = []\n",
    "for b in budgets:\n",
    "    thresh_attn_enc , thresh_mlp_enc , thresh_attn_dec , thresh_mlp_dec =  model.transformer.compress_sep(b,b,1)\n",
    "    if b ==.01:\n",
    "        thresh_attn, thresh_mlp,_ = net.backbone.compress_layerwise(b, b, 0.0000000001)\n",
    "    a1 = []\n",
    "    for i in range(4):\n",
    "        a1.append((ckpt[f'transformer.decoder.layers.{i}.mlp.zeta']>=thresh_mlp_dec).sum().flatten())\n",
    "#         else:\n",
    "#             a1.append((ckpt[f'transformer.decoder.layers.{i-4}.mlp.zeta']>=thresh_mlp_dec).sum().flatten())\n",
    "    mlp_list.append(torch.cat(a1))\n",
    "mlp_list = torch.stack(mlp_list, dim=1).cpu().numpy()"
   ]
  },
  {
   "cell_type": "code",
   "execution_count": null,
   "metadata": {},
   "outputs": [],
   "source": [
    "ax = sns.heatmap( mlp_list, fmt = 'g', annot = True)\n",
    "ax.set(xlabel='budgets', ylabel='Layers')\n",
    "ax.set_xticklabels(budgets)\n",
    "ax.set_title(\"Decoder mlp\")\n",
    "ax.figure.savefig('/workspace/stark_plots/decoder_mlp.png')"
   ]
  },
  {
   "cell_type": "code",
   "execution_count": null,
   "metadata": {},
   "outputs": [],
   "source": [
    "transformer.encoder.layers.1.self_attn.zeta"
   ]
  },
  {
   "cell_type": "code",
   "execution_count": null,
   "metadata": {},
   "outputs": [],
   "source": [
    "thresh_enc_attn, thresh_enc_mlp, thresh_dec_attn,thresh_dec_mlp = model.transformer.compress_sep_l(0.25,0.25,1.0)"
   ]
  },
  {
   "cell_type": "code",
   "execution_count": null,
   "metadata": {},
   "outputs": [],
   "source": [
    "print(thresh_enc_attn,thresh_enc_mlp)"
   ]
  },
  {
   "cell_type": "code",
   "execution_count": null,
   "metadata": {},
   "outputs": [],
   "source": [
    "s1 = 0\n",
    "for i in range(3):\n",
    "    s1+=model.transformer.encoder.layers[i].self_attn.searched_zeta.cpu().detach().sum().numpy()\n",
    "    print(model.transformer.encoder.layers[i].self_attn.searched_zeta.cpu().detach().sum().numpy())\n",
    "s1"
   ]
  },
  {
   "cell_type": "code",
   "execution_count": null,
   "metadata": {},
   "outputs": [],
   "source": [
    "thresh_dec_attn"
   ]
  },
  {
   "cell_type": "code",
   "execution_count": null,
   "metadata": {},
   "outputs": [],
   "source": [
    "ckpt['transformer.encoder.layers.1.self_attn.zeta'].mean()"
   ]
  },
  {
   "cell_type": "code",
   "execution_count": null,
   "metadata": {},
   "outputs": [],
   "source": [
    "import torch\n",
    "ckpt = torch.load('/workspace/tracking_datasets/stark/exp1/checkpoints/train/stark_sparse/baseline_got10k_only_sparse/STARKST_ep0008.pth.tar')['net']"
   ]
  },
  {
   "cell_type": "code",
   "execution_count": null,
   "metadata": {},
   "outputs": [],
   "source": [
    "ckpt['transformer.encoder.layers.1.self_attn.zeta'].shape"
   ]
  },
  {
   "cell_type": "code",
   "execution_count": null,
   "metadata": {},
   "outputs": [],
   "source": [
    "import torch\n",
    "ckpt = torch.load('/workspace/tracking_datasets/stark/exp1/checkpoints/train/stark_sparse/baseline_got10k_only_sparse/STARKST_ep00010.pth.tar')['net']"
   ]
  },
  {
   "cell_type": "code",
   "execution_count": null,
   "metadata": {},
   "outputs": [],
   "source": [
    "ckpt['transformer.encoder.layers.0.self_attn.zeta'].mean()"
   ]
  },
  {
   "cell_type": "code",
   "execution_count": null,
   "metadata": {},
   "outputs": [],
   "source": [
    "pwd"
   ]
  },
  {
   "cell_type": "code",
   "execution_count": null,
   "metadata": {},
   "outputs": [],
   "source": [
    "%cd '/workspace/'"
   ]
  },
  {
   "cell_type": "code",
   "execution_count": null,
   "metadata": {},
   "outputs": [],
   "source": [
    "!export CUDA_VISIBLE_DEVICES=5"
   ]
  },
  {
   "cell_type": "code",
   "execution_count": null,
   "metadata": {},
   "outputs": [],
   "source": [
    "/workspace/tracking_datasets/stark/exp1_no_clf/checkpoints/train/stark_sparse_no_clf/baseline_got10k_only_sparse_exp1"
   ]
  },
  {
   "cell_type": "code",
   "execution_count": null,
   "metadata": {},
   "outputs": [],
   "source": [
    "# !export CUDA_VISIBLE_DEVICES=5\n",
    "import os\n",
    "os.environ[\"CUDA_VISIBLE_DEVICES\"] = \"5\"\n",
    "import importlib\n",
    "from Stark_sparse.lib.models.stark import build_starks, build_starkst,build_starkst_sparse\n",
    "config_module = importlib.import_module(\"Stark_sparse.lib.config.%s.config\" % 'stark_sparse')\n",
    "cfg = config_module.cfg\n",
    "config_module.update_config_from_file('/workspace/Stark_sparse/experiments/stark_sparse/baseline_got10k_only_sparse_exp6.yaml')\n",
    "\n",
    "model = build_starkst_sparse(cfg)"
   ]
  },
  {
   "cell_type": "code",
   "execution_count": null,
   "metadata": {},
   "outputs": [],
   "source": [
    "ls '/workspace/tracking_datasets/stark/try_cnn/checkpoints/train/stark_sparse/baseline_got10k_only_sparse_exp6'"
   ]
  },
  {
   "cell_type": "code",
   "execution_count": null,
   "metadata": {},
   "outputs": [],
   "source": [
    "import torch\n",
    "ckpt = torch.load('/workspace/tracking_datasets/stark/try_cnn/checkpoints/train/stark_sparse/baseline_got10k_only_sparse_exp6/STARKST_ep0003.pth.tar',map_location='cuda')['net']\n",
    "model.load_state_dict(ckpt, strict = True)"
   ]
  },
  {
   "cell_type": "code",
   "execution_count": null,
   "metadata": {},
   "outputs": [],
   "source": [
    "ckpt['backbone.0.body.layer2.0.bn1.weight']"
   ]
  },
  {
   "cell_type": "code",
   "execution_count": null,
   "metadata": {},
   "outputs": [],
   "source": [
    "ckpt['backbone.0.body.layer2.0.bn1.weight']"
   ]
  },
  {
   "cell_type": "code",
   "execution_count": null,
   "metadata": {},
   "outputs": [],
   "source": [
    "# ckpt = torch.load('/workspace/tracking_datasets/stark_sparse_pretrained.pth', map_location='cpu')['net']"
   ]
  },
  {
   "cell_type": "code",
   "execution_count": null,
   "metadata": {},
   "outputs": [],
   "source": [
    "# model.load_state_dict(ckpt, strict = False)"
   ]
  },
  {
   "cell_type": "code",
   "execution_count": null,
   "metadata": {},
   "outputs": [],
   "source": [
    "thresh_attn, thresh_mlp, thresh_patch = model.transformer.compress(0.3,0.3,1.0)"
   ]
  },
  {
   "cell_type": "code",
   "execution_count": null,
   "metadata": {},
   "outputs": [],
   "source": []
  },
  {
   "cell_type": "code",
   "execution_count": null,
   "metadata": {},
   "outputs": [],
   "source": [
    "thresh_attn"
   ]
  },
  {
   "cell_type": "code",
   "execution_count": null,
   "metadata": {},
   "outputs": [],
   "source": [
    "thresh_mlp"
   ]
  },
  {
   "cell_type": "code",
   "execution_count": null,
   "metadata": {},
   "outputs": [],
   "source": [
    "model.transformer.encoder.layers[0].state_dict()['mlp.zeta']"
   ]
  },
  {
   "cell_type": "code",
   "execution_count": null,
   "metadata": {},
   "outputs": [],
   "source": [
    "s1 = 0\n",
    "for i in range(6):\n",
    "    s1+=model.transformer.encoder.layers[i].self_attn.searched_zeta.sum().numpy()\n",
    "s1"
   ]
  },
  {
   "cell_type": "code",
   "execution_count": null,
   "metadata": {},
   "outputs": [],
   "source": [
    "# 256*6"
   ]
  },
  {
   "cell_type": "code",
   "execution_count": null,
   "metadata": {},
   "outputs": [],
   "source": [
    "# 1336/1536"
   ]
  },
  {
   "cell_type": "code",
   "execution_count": null,
   "metadata": {},
   "outputs": [],
   "source": [
    "model.transformer.decoder.layers[0].state_dict().keys()"
   ]
  },
  {
   "cell_type": "code",
   "execution_count": null,
   "metadata": {},
   "outputs": [],
   "source": [
    "model.transformer.decoder.layers[0].state_dict()['multihead_attn.zeta'].max()"
   ]
  },
  {
   "cell_type": "code",
   "execution_count": null,
   "metadata": {},
   "outputs": [],
   "source": [
    "model.transformer.decoder.layers[0].state_dict()['mlp.zeta']"
   ]
  },
  {
   "cell_type": "code",
   "execution_count": null,
   "metadata": {},
   "outputs": [],
   "source": [
    "model.transformer.encoder.layers[0].state_dict()['self_attn.q.weight']"
   ]
  },
  {
   "cell_type": "code",
   "execution_count": null,
   "metadata": {},
   "outputs": [],
   "source": [
    "model.transformer.decoder.layers[0].state_dict()['self_attn.q.weight']"
   ]
  },
  {
   "cell_type": "code",
   "execution_count": null,
   "metadata": {},
   "outputs": [],
   "source": []
  }
 ],
 "metadata": {
  "kernelspec": {
   "display_name": "Python 3",
   "language": "python",
   "name": "python3"
  },
  "language_info": {
   "codemirror_mode": {
    "name": "ipython",
    "version": 3
   },
   "file_extension": ".py",
   "mimetype": "text/x-python",
   "name": "python",
   "nbconvert_exporter": "python",
   "pygments_lexer": "ipython3",
   "version": "3.8.5"
  }
 },
 "nbformat": 4,
 "nbformat_minor": 4
}
