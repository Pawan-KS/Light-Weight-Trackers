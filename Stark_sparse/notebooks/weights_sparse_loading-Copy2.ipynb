{
 "cells": [
  {
   "cell_type": "code",
   "execution_count": null,
   "metadata": {},
   "outputs": [],
   "source": [
    "import torch\n",
    "ckpt_og = torch.load('/workspace/tracking_datasets/STARKST_ep0050.pth.tar')\n",
    "ckpt_sparse = torch.load('/workspace/tracking_datasets/stark/try/checkpoints/train/stark_sparse/baseline_got10k_only_sparse/STARKST_ep0001.pth.tar')"
   ]
  },
  {
   "cell_type": "code",
   "execution_count": null,
   "metadata": {},
   "outputs": [],
   "source": [
    "ckpt_sparse['net'].keys()"
   ]
  },
  {
   "cell_type": "code",
   "execution_count": null,
   "metadata": {},
   "outputs": [],
   "source": [
    "for i in ckpt_sparse['net'].keys():\n",
    "    if 'transformer' in i:\n",
    "        print(i)"
   ]
  },
  {
   "cell_type": "code",
   "execution_count": null,
   "metadata": {},
   "outputs": [],
   "source": [
    "# from collections import OrderedDict\n",
    "# new_state = OrderedDict()\n",
    "\n",
    "# for key, value in ckpt_og['net'].items():\n",
    "#     if 'transformer' in key and 'in_proj_weight' in key:\n",
    "#         new_key = key[:-14] + 'qkv.weight'\n",
    "#         print(new_key)\n",
    "#         new_state[new_key] = value\n",
    "#     elif 'transformer' in key and 'in_proj_bias' in key:\n",
    "#         new_key = key[:-12] + 'qkv.bias'\n",
    "#         print(new_key)\n",
    "#         new_state[new_key] = value\n",
    "#     elif 'transformer' in key and 'out_proj.weight' in key:\n",
    "#         new_key = key[:-15] + 'proj.weight'\n",
    "#         print(new_key)\n",
    "#         new_state[new_key] = value\n",
    "#     elif 'transformer' in key and 'out_proj.bias' in key:\n",
    "#         new_key = key[:-13] + 'proj.bias'\n",
    "#         print(new_key)\n",
    "#         new_state[new_key] = value\n",
    "#     elif 'transformer' in key and 'linear1.weight' in key:\n",
    "#         new_key = key[:-14] + 'mlp.fc1.weight'\n",
    "#         print(new_key)\n",
    "#         new_state[new_key] = value\n",
    "#     elif 'transformer' in key and 'linear1.bias' in key:\n",
    "#         new_key = key[:-12] + 'mlp.fc1.bias'\n",
    "#         print(new_key)\n",
    "#         new_state[new_key] = value\n",
    "#     elif 'transformer' in key and 'linear2.weight' in key:\n",
    "#         new_key = key[:-14] + 'mlp.fc2.weight'\n",
    "#         print(new_key)\n",
    "#         new_state[new_key] = value\n",
    "#     elif 'transformer' in key and 'linear2.bias' in key:\n",
    "#         new_key = key[:-12] + 'mlp.fc2.bias'\n",
    "#         print(new_key)\n",
    "#         new_state[new_key] = value\n",
    "#     else:\n",
    "#         new_state[key] = value"
   ]
  },
  {
   "cell_type": "code",
   "execution_count": null,
   "metadata": {},
   "outputs": [],
   "source": [
    "from collections import OrderedDict\n",
    "new_state = OrderedDict()\n",
    "\n",
    "for key, value in ckpt_og['net'].items():\n",
    "    if 'transformer' in key and 'in_proj_weight' in key:\n",
    "        new_key = key[:-14] + 'q.weight'\n",
    "        print(new_key)\n",
    "        new_state[new_key] = value[:value.shape[0]//3,:]\n",
    "        \n",
    "        new_key = key[:-14] + 'k.weight'\n",
    "        print(new_key)\n",
    "        new_state[new_key] = value[value.shape[0]//3:(value.shape[0]//3)*2,:]\n",
    "        \n",
    "        new_key = key[:-14] + 'v.weight'\n",
    "        print(new_key)\n",
    "        new_state[new_key] = value[(value.shape[0]//3)*2:,:]\n",
    "        \n",
    "    elif 'transformer' in key and 'in_proj_bias' in key:\n",
    "        new_key = key[:-12] + 'q.bias'\n",
    "        print(new_key)\n",
    "        new_state[new_key] = value[:value.shape[0]//3]\n",
    "        \n",
    "        new_key = key[:-12] + 'k.bias'\n",
    "        print(new_key)\n",
    "        new_state[new_key] = value[value.shape[0]//3:(value.shape[0]//3)*2]\n",
    "        \n",
    "        new_key = key[:-12] + 'v.bias'\n",
    "        print(new_key)\n",
    "        new_state[new_key] = value[(value.shape[0]//3)*2:]\n",
    "        \n",
    "        \n",
    "    elif 'transformer' in key and 'out_proj.weight' in key:\n",
    "        new_key = key[:-15] + 'proj.weight'\n",
    "        print(new_key)\n",
    "        new_state[new_key] = value\n",
    "    elif 'transformer' in key and 'out_proj.bias' in key:\n",
    "        new_key = key[:-13] + 'proj.bias'\n",
    "        print(new_key)\n",
    "        new_state[new_key] = value\n",
    "    elif 'transformer' in key and 'linear1.weight' in key:\n",
    "        new_key = key[:-14] + 'mlp.fc1.weight'\n",
    "        print(new_key)\n",
    "        new_state[new_key] = value\n",
    "    elif 'transformer' in key and 'linear1.bias' in key:\n",
    "        new_key = key[:-12] + 'mlp.fc1.bias'\n",
    "        print(new_key)\n",
    "        new_state[new_key] = value\n",
    "    elif 'transformer' in key and 'linear2.weight' in key:\n",
    "        new_key = key[:-14] + 'mlp.fc2.weight'\n",
    "        print(new_key)\n",
    "        new_state[new_key] = value\n",
    "    elif 'transformer' in key and 'linear2.bias' in key:\n",
    "        new_key = key[:-12] + 'mlp.fc2.bias'\n",
    "        print(new_key)\n",
    "        new_state[new_key] = value\n",
    "    else:\n",
    "        new_state[key] = value"
   ]
  },
  {
   "cell_type": "code",
   "execution_count": null,
   "metadata": {},
   "outputs": [],
   "source": [
    "from lib.models.stark import build_starks, build_starkst,build_starkst_sparse"
   ]
  },
  {
   "cell_type": "code",
   "execution_count": null,
   "metadata": {},
   "outputs": [],
   "source": [
    "import importlib\n",
    "config_module = importlib.import_module(\"lib.config.%s.config\" % 'stark_sparse')\n",
    "cfg = config_module.cfg\n",
    "config_module.update_config_from_file('/workspace/Stark/experiments/stark_sparse/baseline_got10k_only_sparse.yaml')"
   ]
  },
  {
   "cell_type": "code",
   "execution_count": null,
   "metadata": {},
   "outputs": [],
   "source": [
    "model = build_starkst,build_starkst_sparse(cfg)"
   ]
  },
  {
   "cell_type": "code",
   "execution_count": null,
   "metadata": {},
   "outputs": [],
   "source": [
    "model[1].load_state_dict(new_state, strict = False)"
   ]
  },
  {
   "cell_type": "code",
   "execution_count": null,
   "metadata": {},
   "outputs": [],
   "source": [
    "ckpt_og['net'] = new_state"
   ]
  },
  {
   "cell_type": "code",
   "execution_count": null,
   "metadata": {},
   "outputs": [],
   "source": [
    "torch.save(ckpt_og,'/workspace/tracking_datasets/stark_sparse_pretrained.pth')"
   ]
  },
  {
   "cell_type": "code",
   "execution_count": null,
   "metadata": {},
   "outputs": [],
   "source": [
    "ckpt_sparse['net']['transformer.encoder.layers.0.mlp.zeta']"
   ]
  },
  {
   "cell_type": "code",
   "execution_count": null,
   "metadata": {},
   "outputs": [],
   "source": [
    "ckpt_og['net'].keys()"
   ]
  },
  {
   "cell_type": "code",
   "execution_count": null,
   "metadata": {},
   "outputs": [],
   "source": [
    "import os\n",
    "os.listdir('/workspace/tracking_datasets/stark/exp1/checkpoints/train/stark_sparse/baseline_got10k_only_sparse')"
   ]
  },
  {
   "cell_type": "code",
   "execution_count": null,
   "metadata": {},
   "outputs": [],
   "source": [
    "import torch\n",
    "ckpt = torch.load('/workspace/tracking_datasets/stark/exp1/checkpoints/train/stark_sparse/baseline_got10k_only_sparse/STARKST_ep0006.pth.tar')['net']"
   ]
  },
  {
   "cell_type": "code",
   "execution_count": null,
   "metadata": {},
   "outputs": [],
   "source": [
    "ckpt['transformer.encoder.layers.0.self_attn.zeta'].mean()"
   ]
  },
  {
   "cell_type": "code",
   "execution_count": null,
   "metadata": {},
   "outputs": [],
   "source": [
    "import torch\n",
    "ckpt = torch.load('/workspace/tracking_datasets/stark/exp1/checkpoints/train/stark_sparse/baseline_got10k_only_sparse/STARKST_ep0008.pth.tar')['net']"
   ]
  },
  {
   "cell_type": "code",
   "execution_count": null,
   "metadata": {},
   "outputs": [],
   "source": [
    "ckpt['transformer.encoder.layers.1.self_attn.zeta'].shape"
   ]
  },
  {
   "cell_type": "code",
   "execution_count": null,
   "metadata": {},
   "outputs": [],
   "source": [
    "import torch\n",
    "ckpt = torch.load('/workspace/tracking_datasets/stark/exp1/checkpoints/train/stark_sparse/baseline_got10k_only_sparse/STARKST_ep00010.pth.tar')['net']"
   ]
  },
  {
   "cell_type": "code",
   "execution_count": null,
   "metadata": {},
   "outputs": [],
   "source": [
    "ckpt['transformer.encoder.layers.0.self_attn.zeta'].mean()"
   ]
  },
  {
   "cell_type": "code",
   "execution_count": null,
   "metadata": {},
   "outputs": [],
   "source": [
    "pwd"
   ]
  },
  {
   "cell_type": "code",
   "execution_count": null,
   "metadata": {},
   "outputs": [],
   "source": [
    "%cd '/workspace/'"
   ]
  },
  {
   "cell_type": "code",
   "execution_count": null,
   "metadata": {},
   "outputs": [],
   "source": [
    "!export CUDA_VISIBLE_DEVICES=5"
   ]
  },
  {
   "cell_type": "code",
   "execution_count": null,
   "metadata": {},
   "outputs": [],
   "source": [
    "/workspace/tracking_datasets/stark/exp1_no_clf/checkpoints/train/stark_sparse_no_clf/baseline_got10k_only_sparse_exp1"
   ]
  },
  {
   "cell_type": "code",
   "execution_count": null,
   "metadata": {},
   "outputs": [],
   "source": [
    "# !export CUDA_VISIBLE_DEVICES=5\n",
    "import os\n",
    "os.environ[\"CUDA_VISIBLE_DEVICES\"] = \"5\"\n",
    "import importlib\n",
    "from Stark_sparse.lib.models.stark import build_starks, build_starkst,build_starkst_sparse\n",
    "config_module = importlib.import_module(\"Stark_sparse.lib.config.%s.config\" % 'stark_child')\n",
    "cfg = config_module.cfg\n",
    "config_module.update_config_from_file('/workspace/Stark_sparse/experiments/stark_child_no_clf/baseline_got10k_only_child_exp4.yaml')\n",
    "\n",
    "model = build_starkst_sparse(cfg)"
   ]
  },
  {
   "cell_type": "code",
   "execution_count": null,
   "metadata": {},
   "outputs": [],
   "source": [
    "ls '/workspace/tracking_datasets/stark/exp4_child_no_clf/checkpoints/train/stark_child_no_clf'"
   ]
  },
  {
   "cell_type": "code",
   "execution_count": null,
   "metadata": {},
   "outputs": [],
   "source": [
    "ls '/workspace/tracking_datasets/stark/exp4_child_no_clf/checkpoints/train/stark_child_no_clf/baseline_got10k_only_child_exp4/'"
   ]
  },
  {
   "cell_type": "code",
   "execution_count": null,
   "metadata": {},
   "outputs": [],
   "source": [
    "ls '/workspace/tracking_datasets/stark/child_exp1/checkpoints/train/stark_child/baseline_got10k_only_child_exp1'"
   ]
  },
  {
   "cell_type": "code",
   "execution_count": null,
   "metadata": {},
   "outputs": [],
   "source": [
    "import torch\n",
    "ckpt = torch.load('/workspace/tracking_datasets/stark/exp4_child_no_clf/checkpoints/train/stark_child_no_clf/baseline_got10k_only_child_exp4/STARKST_ep0273.pth.tar',map_location='cuda')['net']\n",
    "model.load_state_dict(ckpt, strict = True)"
   ]
  },
  {
   "cell_type": "code",
   "execution_count": null,
   "metadata": {},
   "outputs": [],
   "source": [
    "# ckpt = torch.load('/workspace/tracking_datasets/stark_sparse_pretrained.pth', map_location='cpu')['net']"
   ]
  },
  {
   "cell_type": "code",
   "execution_count": null,
   "metadata": {},
   "outputs": [],
   "source": [
    "# model.load_state_dict(ckpt, strict = False)"
   ]
  },
  {
   "cell_type": "code",
   "execution_count": null,
   "metadata": {},
   "outputs": [],
   "source": []
  },
  {
   "cell_type": "code",
   "execution_count": null,
   "metadata": {},
   "outputs": [],
   "source": [
    "thresh_attn, thresh_mlp, thresh_patch = model.transformer.compress(0.5,0.5,1.0)"
   ]
  },
  {
   "cell_type": "code",
   "execution_count": null,
   "metadata": {},
   "outputs": [],
   "source": []
  },
  {
   "cell_type": "code",
   "execution_count": null,
   "metadata": {},
   "outputs": [],
   "source": [
    "thresh_attn"
   ]
  },
  {
   "cell_type": "code",
   "execution_count": null,
   "metadata": {},
   "outputs": [],
   "source": [
    "thresh_mlp"
   ]
  },
  {
   "cell_type": "code",
   "execution_count": null,
   "metadata": {},
   "outputs": [],
   "source": [
    "model.transformer.encoder.layers[0].state_dict()['self_attn.zeta']"
   ]
  },
  {
   "cell_type": "code",
   "execution_count": null,
   "metadata": {},
   "outputs": [],
   "source": [
    "s1 = 0\n",
    "for i in range(6):\n",
    "    s1+=model.transformer.encoder.layers[i].self_attn.searched_zeta.sum().numpy()\n",
    "s1"
   ]
  },
  {
   "cell_type": "code",
   "execution_count": null,
   "metadata": {},
   "outputs": [],
   "source": [
    "# 256*6"
   ]
  },
  {
   "cell_type": "code",
   "execution_count": null,
   "metadata": {},
   "outputs": [],
   "source": [
    "# 1336/1536"
   ]
  },
  {
   "cell_type": "code",
   "execution_count": null,
   "metadata": {},
   "outputs": [],
   "source": [
    "model.transformer.decoder.layers[0].state_dict().keys()"
   ]
  },
  {
   "cell_type": "code",
   "execution_count": null,
   "metadata": {},
   "outputs": [],
   "source": [
    "model.transformer.decoder.layers[0].state_dict()['self_attn.zeta']"
   ]
  },
  {
   "cell_type": "code",
   "execution_count": null,
   "metadata": {},
   "outputs": [],
   "source": [
    "model.transformer.decoder.layers[0].state_dict()['mlp.zeta']"
   ]
  },
  {
   "cell_type": "code",
   "execution_count": null,
   "metadata": {},
   "outputs": [],
   "source": [
    "model.transformer.encoder.layers[0].state_dict()['self_attn.q.weight']"
   ]
  },
  {
   "cell_type": "code",
   "execution_count": null,
   "metadata": {},
   "outputs": [],
   "source": [
    "model.transformer.decoder.layers[0].state_dict()['self_attn.q.weight']"
   ]
  },
  {
   "cell_type": "code",
   "execution_count": null,
   "metadata": {},
   "outputs": [],
   "source": [
    "import torch"
   ]
  },
  {
   "cell_type": "code",
   "execution_count": null,
   "metadata": {},
   "outputs": [],
   "source": [
    "torch.__version__"
   ]
  },
  {
   "cell_type": "code",
   "execution_count": null,
   "metadata": {},
   "outputs": [],
   "source": [
    "import torch"
   ]
  },
  {
   "cell_type": "code",
   "execution_count": null,
   "metadata": {},
   "outputs": [],
   "source": [
    "%cd /workspace/pytracking\n",
    "ckpt = torch.load('/workspace/tracking_datasets/saved_ckpts/ltr/dimp/sparse/dimp101/DiMPnet_ep0006.pth.tar')"
   ]
  },
  {
   "cell_type": "code",
   "execution_count": null,
   "metadata": {},
   "outputs": [],
   "source": [
    "ckpt['net']['feature_extractor.layer1.0.bn1.weight']"
   ]
  },
  {
   "cell_type": "code",
   "execution_count": null,
   "metadata": {},
   "outputs": [],
   "source": [
    "# \n",
    "\n",
    "ckpt = torch.load('/workspace/tracking_datasets/saved_ckpts/ltr/dimp/sparse/dimp101/DiMPnet_ep0010.pth.tar')"
   ]
  },
  {
   "cell_type": "code",
   "execution_count": null,
   "metadata": {},
   "outputs": [],
   "source": [
    "ckpt['net']['feature_extractor.layer1.0.bn1.weight']"
   ]
  },
  {
   "cell_type": "code",
   "execution_count": null,
   "metadata": {},
   "outputs": [],
   "source": [
    "ckpt = torch.load('/workspace/tracking_datasets/saved_ckpts/ltr/dimp/scratch/dimp101/DiMPnet_ep0016.pth.tar')"
   ]
  },
  {
   "cell_type": "code",
   "execution_count": null,
   "metadata": {},
   "outputs": [],
   "source": [
    "ckpt['net']['feature_extractor.layer1.0.bn1.weight']"
   ]
  },
  {
   "cell_type": "code",
   "execution_count": null,
   "metadata": {},
   "outputs": [],
   "source": []
  }
 ],
 "metadata": {
  "kernelspec": {
   "display_name": "Python 3",
   "language": "python",
   "name": "python3"
  },
  "language_info": {
   "codemirror_mode": {
    "name": "ipython",
    "version": 3
   },
   "file_extension": ".py",
   "mimetype": "text/x-python",
   "name": "python",
   "nbconvert_exporter": "python",
   "pygments_lexer": "ipython3",
   "version": "3.8.5"
  }
 },
 "nbformat": 4,
 "nbformat_minor": 4
}
